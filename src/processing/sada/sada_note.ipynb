{
 "cells": [
  {
   "cell_type": "code",
   "execution_count": 1,
   "metadata": {},
   "outputs": [],
   "source": [
    "from pathlib import Path\n",
    "import pandas as pd"
   ]
  },
  {
   "cell_type": "code",
   "execution_count": 2,
   "metadata": {},
   "outputs": [
    {
     "data": {
      "text/html": [
       "<div>\n",
       "<style scoped>\n",
       "    .dataframe tbody tr th:only-of-type {\n",
       "        vertical-align: middle;\n",
       "    }\n",
       "\n",
       "    .dataframe tbody tr th {\n",
       "        vertical-align: top;\n",
       "    }\n",
       "\n",
       "    .dataframe thead th {\n",
       "        text-align: right;\n",
       "    }\n",
       "</style>\n",
       "<table border=\"1\" class=\"dataframe\">\n",
       "  <thead>\n",
       "    <tr style=\"text-align: right;\">\n",
       "      <th></th>\n",
       "      <th>FileName</th>\n",
       "      <th>ShowName</th>\n",
       "      <th>FullFileLength</th>\n",
       "      <th>SegmentID</th>\n",
       "      <th>SegmentLength</th>\n",
       "      <th>SegmentStart</th>\n",
       "      <th>SegmentEnd</th>\n",
       "      <th>SpeakerAge</th>\n",
       "      <th>SpeakerGender</th>\n",
       "      <th>SpeakerDialect</th>\n",
       "      <th>Speaker</th>\n",
       "      <th>Environment</th>\n",
       "      <th>GroundTruthText</th>\n",
       "      <th>ProcessedText</th>\n",
       "    </tr>\n",
       "  </thead>\n",
       "  <tbody>\n",
       "    <tr>\n",
       "      <th>0</th>\n",
       "      <td>batch_4/6k_v_SBA_688_2.wav</td>\n",
       "      <td>حكايات بابا فرحان - 02 - 18</td>\n",
       "      <td>488.83</td>\n",
       "      <td>6k_v_SBA_688_2-seg_0_430-28_830</td>\n",
       "      <td>28.40</td>\n",
       "      <td>0.43</td>\n",
       "      <td>28.83</td>\n",
       "      <td>More than 1 speaker اكثر من متحدث</td>\n",
       "      <td>More than 1 speaker اكثر من متحدث</td>\n",
       "      <td>More than 1 speaker اكثر من متحدث</td>\n",
       "      <td>More than 1 speaker اكثر من متحدث</td>\n",
       "      <td>Noisy -- ضوضاء</td>\n",
       "      <td>#غير_واضح وجربتوا ولا شي قولوا لي على طول عشان...</td>\n",
       "      <td>غيرواضح وجربتوا ولا شي قولوا لي على طول عشان ا...</td>\n",
       "    </tr>\n",
       "    <tr>\n",
       "      <th>1</th>\n",
       "      <td>batch_4/6k_v_SBA_688_2.wav</td>\n",
       "      <td>حكايات بابا فرحان - 02 - 18</td>\n",
       "      <td>488.83</td>\n",
       "      <td>6k_v_SBA_688_2-seg_30_880-39_650</td>\n",
       "      <td>8.77</td>\n",
       "      <td>30.88</td>\n",
       "      <td>39.65</td>\n",
       "      <td>More than 1 speaker اكثر من متحدث</td>\n",
       "      <td>More than 1 speaker اكثر من متحدث</td>\n",
       "      <td>More than 1 speaker اكثر من متحدث</td>\n",
       "      <td>More than 1 speaker اكثر من متحدث</td>\n",
       "      <td>Noisy -- ضوضاء</td>\n",
       "      <td>لا خلاص خلوا بالكم خلوا بالكم #غير_واضح لحظة #...</td>\n",
       "      <td>لا خلاص خلوا بالكم خلوا بالكم غيرواضح لحظة غير...</td>\n",
       "    </tr>\n",
       "    <tr>\n",
       "      <th>2</th>\n",
       "      <td>batch_4/6k_v_SBA_688_2.wav</td>\n",
       "      <td>حكايات بابا فرحان - 02 - 18</td>\n",
       "      <td>488.83</td>\n",
       "      <td>6k_v_SBA_688_2-seg_53_970-80_140</td>\n",
       "      <td>26.17</td>\n",
       "      <td>53.97</td>\n",
       "      <td>80.14</td>\n",
       "      <td>More than 1 speaker اكثر من متحدث</td>\n",
       "      <td>More than 1 speaker اكثر من متحدث</td>\n",
       "      <td>More than 1 speaker اكثر من متحدث</td>\n",
       "      <td>More than 1 speaker اكثر من متحدث</td>\n",
       "      <td>Clean -- نظيف</td>\n",
       "      <td>متأكد إيوه يا عيد طيب خلاص إلا قولي يا عيد أنت...</td>\n",
       "      <td>متاكد ايوه يا عيد طيب خلاص الا قولي يا عيد انت...</td>\n",
       "    </tr>\n",
       "    <tr>\n",
       "      <th>3</th>\n",
       "      <td>batch_4/6k_v_SBA_688_2.wav</td>\n",
       "      <td>حكايات بابا فرحان - 02 - 18</td>\n",
       "      <td>488.83</td>\n",
       "      <td>6k_v_SBA_688_2-seg_82_240-87_410</td>\n",
       "      <td>5.17</td>\n",
       "      <td>82.24</td>\n",
       "      <td>87.41</td>\n",
       "      <td>More than 1 speaker اكثر من متحدث</td>\n",
       "      <td>More than 1 speaker اكثر من متحدث</td>\n",
       "      <td>More than 1 speaker اكثر من متحدث</td>\n",
       "      <td>More than 1 speaker اكثر من متحدث</td>\n",
       "      <td>Noisy -- ضوضاء</td>\n",
       "      <td>أم الخير أم الخير فين رايحة رايحة ألعب كورة يا...</td>\n",
       "      <td>ام الخير ام الخير فين رايحة رايحة العب كورة يا...</td>\n",
       "    </tr>\n",
       "    <tr>\n",
       "      <th>4</th>\n",
       "      <td>batch_4/6k_v_SBA_688_2.wav</td>\n",
       "      <td>حكايات بابا فرحان - 02 - 18</td>\n",
       "      <td>488.83</td>\n",
       "      <td>6k_v_SBA_688_2-seg_90_460-96_670</td>\n",
       "      <td>6.21</td>\n",
       "      <td>90.46</td>\n",
       "      <td>96.67</td>\n",
       "      <td>Adult -- بالغ</td>\n",
       "      <td>Female</td>\n",
       "      <td>Najdi</td>\n",
       "      <td>Speaker1متحدث</td>\n",
       "      <td>Clean -- نظيف</td>\n",
       "      <td>أيوه يا سمورة مهم عيد وسعيد بيشتغلوا وأنا رايح...</td>\n",
       "      <td>ايوه يا سمورة مهم عيد وسعيد بيشتغلوا وانا رايح...</td>\n",
       "    </tr>\n",
       "    <tr>\n",
       "      <th>...</th>\n",
       "      <td>...</td>\n",
       "      <td>...</td>\n",
       "      <td>...</td>\n",
       "      <td>...</td>\n",
       "      <td>...</td>\n",
       "      <td>...</td>\n",
       "      <td>...</td>\n",
       "      <td>...</td>\n",
       "      <td>...</td>\n",
       "      <td>...</td>\n",
       "      <td>...</td>\n",
       "      <td>...</td>\n",
       "      <td>...</td>\n",
       "      <td>...</td>\n",
       "    </tr>\n",
       "    <tr>\n",
       "      <th>210078</th>\n",
       "      <td>batch_1/6k_v2ms_SBA_1569_segmented_0.wav</td>\n",
       "      <td>ابتسامات رمضانية - 12</td>\n",
       "      <td>360.03</td>\n",
       "      <td>6k_v2ms_SBA_1569_segmented_0-seg_312_600-319_060</td>\n",
       "      <td>6.46</td>\n",
       "      <td>312.60</td>\n",
       "      <td>319.06</td>\n",
       "      <td>More than 1 speaker اكثر من متحدث</td>\n",
       "      <td>More than 1 speaker اكثر من متحدث</td>\n",
       "      <td>More than 1 speaker اكثر من متحدث</td>\n",
       "      <td>More than 1 speaker اكثر من متحدث</td>\n",
       "      <td>Music -- موسيقى</td>\n",
       "      <td>هاهاها بعد الحين لك وين رايح وين تروح تفضل قال...</td>\n",
       "      <td>هاهاها بعد الحين لك وين رايح وين تروح تفضل قال...</td>\n",
       "    </tr>\n",
       "    <tr>\n",
       "      <th>210079</th>\n",
       "      <td>batch_1/6k_v2ms_SBA_1569_segmented_0.wav</td>\n",
       "      <td>ابتسامات رمضانية - 12</td>\n",
       "      <td>360.03</td>\n",
       "      <td>6k_v2ms_SBA_1569_segmented_0-seg_319_910-324_750</td>\n",
       "      <td>4.84</td>\n",
       "      <td>319.91</td>\n",
       "      <td>324.75</td>\n",
       "      <td>More than 1 speaker اكثر من متحدث</td>\n",
       "      <td>More than 1 speaker اكثر من متحدث</td>\n",
       "      <td>More than 1 speaker اكثر من متحدث</td>\n",
       "      <td>More than 1 speaker اكثر من متحدث</td>\n",
       "      <td>Music -- موسيقى</td>\n",
       "      <td>هو العريس هو جاب سيرة العريس هو جاب سيرته اقعد...</td>\n",
       "      <td>هو العريس هو جاب سيرة العريس هو جاب سيرته اقعد...</td>\n",
       "    </tr>\n",
       "    <tr>\n",
       "      <th>210080</th>\n",
       "      <td>batch_1/6k_v2ms_SBA_1569_segmented_0.wav</td>\n",
       "      <td>ابتسامات رمضانية - 12</td>\n",
       "      <td>360.03</td>\n",
       "      <td>6k_v2ms_SBA_1569_segmented_0-seg_334_530-343_100</td>\n",
       "      <td>8.57</td>\n",
       "      <td>334.53</td>\n",
       "      <td>343.10</td>\n",
       "      <td>More than 1 speaker اكثر من متحدث</td>\n",
       "      <td>More than 1 speaker اكثر من متحدث</td>\n",
       "      <td>More than 1 speaker اكثر من متحدث</td>\n",
       "      <td>More than 1 speaker اكثر من متحدث</td>\n",
       "      <td>Music -- موسيقى</td>\n",
       "      <td>على مهلك والله الله يعطيها هاهاها السابق ونحن...</td>\n",
       "      <td>على مهلك والله الله يعطيها هاهاها السابق ونحن ...</td>\n",
       "    </tr>\n",
       "    <tr>\n",
       "      <th>210081</th>\n",
       "      <td>batch_1/6k_v2ms_SBA_1569_segmented_0.wav</td>\n",
       "      <td>ابتسامات رمضانية - 12</td>\n",
       "      <td>360.03</td>\n",
       "      <td>6k_v2ms_SBA_1569_segmented_0-seg_344_820-352_060</td>\n",
       "      <td>7.24</td>\n",
       "      <td>344.82</td>\n",
       "      <td>352.06</td>\n",
       "      <td>More than 1 speaker اكثر من متحدث</td>\n",
       "      <td>More than 1 speaker اكثر من متحدث</td>\n",
       "      <td>More than 1 speaker اكثر من متحدث</td>\n",
       "      <td>More than 1 speaker اكثر من متحدث</td>\n",
       "      <td>Music -- موسيقى</td>\n",
       "      <td>معايا أقول منك المال ومنها العيال يلا الله يست...</td>\n",
       "      <td>معايا اقول منك المال ومنها العيال يلا الله يست...</td>\n",
       "    </tr>\n",
       "    <tr>\n",
       "      <th>210082</th>\n",
       "      <td>batch_1/6k_v2ms_SBA_1569_segmented_0.wav</td>\n",
       "      <td>ابتسامات رمضانية - 12</td>\n",
       "      <td>360.03</td>\n",
       "      <td>6k_v2ms_SBA_1569_segmented_0-seg_358_050-360_030</td>\n",
       "      <td>1.98</td>\n",
       "      <td>358.05</td>\n",
       "      <td>360.03</td>\n",
       "      <td>Adult -- بالغ</td>\n",
       "      <td>Male</td>\n",
       "      <td>Najdi</td>\n",
       "      <td>Speaker6متحدث</td>\n",
       "      <td>Music -- موسيقى</td>\n",
       "      <td>اكشفي ياعروسة إنت في بيتك</td>\n",
       "      <td>اكشفي ياعروسة انت في بيتك</td>\n",
       "    </tr>\n",
       "  </tbody>\n",
       "</table>\n",
       "<p>210083 rows × 14 columns</p>\n",
       "</div>"
      ],
      "text/plain": [
       "                                        FileName                     ShowName  \\\n",
       "0                     batch_4/6k_v_SBA_688_2.wav  حكايات بابا فرحان - 02 - 18   \n",
       "1                     batch_4/6k_v_SBA_688_2.wav  حكايات بابا فرحان - 02 - 18   \n",
       "2                     batch_4/6k_v_SBA_688_2.wav  حكايات بابا فرحان - 02 - 18   \n",
       "3                     batch_4/6k_v_SBA_688_2.wav  حكايات بابا فرحان - 02 - 18   \n",
       "4                     batch_4/6k_v_SBA_688_2.wav  حكايات بابا فرحان - 02 - 18   \n",
       "...                                          ...                          ...   \n",
       "210078  batch_1/6k_v2ms_SBA_1569_segmented_0.wav        ابتسامات رمضانية - 12   \n",
       "210079  batch_1/6k_v2ms_SBA_1569_segmented_0.wav        ابتسامات رمضانية - 12   \n",
       "210080  batch_1/6k_v2ms_SBA_1569_segmented_0.wav        ابتسامات رمضانية - 12   \n",
       "210081  batch_1/6k_v2ms_SBA_1569_segmented_0.wav        ابتسامات رمضانية - 12   \n",
       "210082  batch_1/6k_v2ms_SBA_1569_segmented_0.wav        ابتسامات رمضانية - 12   \n",
       "\n",
       "        FullFileLength                                         SegmentID  \\\n",
       "0               488.83                   6k_v_SBA_688_2-seg_0_430-28_830   \n",
       "1               488.83                  6k_v_SBA_688_2-seg_30_880-39_650   \n",
       "2               488.83                  6k_v_SBA_688_2-seg_53_970-80_140   \n",
       "3               488.83                  6k_v_SBA_688_2-seg_82_240-87_410   \n",
       "4               488.83                  6k_v_SBA_688_2-seg_90_460-96_670   \n",
       "...                ...                                               ...   \n",
       "210078          360.03  6k_v2ms_SBA_1569_segmented_0-seg_312_600-319_060   \n",
       "210079          360.03  6k_v2ms_SBA_1569_segmented_0-seg_319_910-324_750   \n",
       "210080          360.03  6k_v2ms_SBA_1569_segmented_0-seg_334_530-343_100   \n",
       "210081          360.03  6k_v2ms_SBA_1569_segmented_0-seg_344_820-352_060   \n",
       "210082          360.03  6k_v2ms_SBA_1569_segmented_0-seg_358_050-360_030   \n",
       "\n",
       "        SegmentLength  SegmentStart  SegmentEnd  \\\n",
       "0               28.40          0.43       28.83   \n",
       "1                8.77         30.88       39.65   \n",
       "2               26.17         53.97       80.14   \n",
       "3                5.17         82.24       87.41   \n",
       "4                6.21         90.46       96.67   \n",
       "...               ...           ...         ...   \n",
       "210078           6.46        312.60      319.06   \n",
       "210079           4.84        319.91      324.75   \n",
       "210080           8.57        334.53      343.10   \n",
       "210081           7.24        344.82      352.06   \n",
       "210082           1.98        358.05      360.03   \n",
       "\n",
       "                               SpeakerAge                      SpeakerGender  \\\n",
       "0       More than 1 speaker اكثر من متحدث  More than 1 speaker اكثر من متحدث   \n",
       "1       More than 1 speaker اكثر من متحدث  More than 1 speaker اكثر من متحدث   \n",
       "2       More than 1 speaker اكثر من متحدث  More than 1 speaker اكثر من متحدث   \n",
       "3       More than 1 speaker اكثر من متحدث  More than 1 speaker اكثر من متحدث   \n",
       "4                           Adult -- بالغ                             Female   \n",
       "...                                   ...                                ...   \n",
       "210078  More than 1 speaker اكثر من متحدث  More than 1 speaker اكثر من متحدث   \n",
       "210079  More than 1 speaker اكثر من متحدث  More than 1 speaker اكثر من متحدث   \n",
       "210080  More than 1 speaker اكثر من متحدث  More than 1 speaker اكثر من متحدث   \n",
       "210081  More than 1 speaker اكثر من متحدث  More than 1 speaker اكثر من متحدث   \n",
       "210082                      Adult -- بالغ                               Male   \n",
       "\n",
       "                           SpeakerDialect                            Speaker  \\\n",
       "0       More than 1 speaker اكثر من متحدث  More than 1 speaker اكثر من متحدث   \n",
       "1       More than 1 speaker اكثر من متحدث  More than 1 speaker اكثر من متحدث   \n",
       "2       More than 1 speaker اكثر من متحدث  More than 1 speaker اكثر من متحدث   \n",
       "3       More than 1 speaker اكثر من متحدث  More than 1 speaker اكثر من متحدث   \n",
       "4                                   Najdi                      Speaker1متحدث   \n",
       "...                                   ...                                ...   \n",
       "210078  More than 1 speaker اكثر من متحدث  More than 1 speaker اكثر من متحدث   \n",
       "210079  More than 1 speaker اكثر من متحدث  More than 1 speaker اكثر من متحدث   \n",
       "210080  More than 1 speaker اكثر من متحدث  More than 1 speaker اكثر من متحدث   \n",
       "210081  More than 1 speaker اكثر من متحدث  More than 1 speaker اكثر من متحدث   \n",
       "210082                              Najdi                      Speaker6متحدث   \n",
       "\n",
       "            Environment                                    GroundTruthText  \\\n",
       "0        Noisy -- ضوضاء  #غير_واضح وجربتوا ولا شي قولوا لي على طول عشان...   \n",
       "1        Noisy -- ضوضاء  لا خلاص خلوا بالكم خلوا بالكم #غير_واضح لحظة #...   \n",
       "2         Clean -- نظيف  متأكد إيوه يا عيد طيب خلاص إلا قولي يا عيد أنت...   \n",
       "3        Noisy -- ضوضاء  أم الخير أم الخير فين رايحة رايحة ألعب كورة يا...   \n",
       "4         Clean -- نظيف  أيوه يا سمورة مهم عيد وسعيد بيشتغلوا وأنا رايح...   \n",
       "...                 ...                                                ...   \n",
       "210078  Music -- موسيقى  هاهاها بعد الحين لك وين رايح وين تروح تفضل قال...   \n",
       "210079  Music -- موسيقى  هو العريس هو جاب سيرة العريس هو جاب سيرته اقعد...   \n",
       "210080  Music -- موسيقى   على مهلك والله الله يعطيها هاهاها السابق ونحن...   \n",
       "210081  Music -- موسيقى  معايا أقول منك المال ومنها العيال يلا الله يست...   \n",
       "210082  Music -- موسيقى                          اكشفي ياعروسة إنت في بيتك   \n",
       "\n",
       "                                            ProcessedText  \n",
       "0       غيرواضح وجربتوا ولا شي قولوا لي على طول عشان ا...  \n",
       "1       لا خلاص خلوا بالكم خلوا بالكم غيرواضح لحظة غير...  \n",
       "2       متاكد ايوه يا عيد طيب خلاص الا قولي يا عيد انت...  \n",
       "3       ام الخير ام الخير فين رايحة رايحة العب كورة يا...  \n",
       "4       ايوه يا سمورة مهم عيد وسعيد بيشتغلوا وانا رايح...  \n",
       "...                                                   ...  \n",
       "210078  هاهاها بعد الحين لك وين رايح وين تروح تفضل قال...  \n",
       "210079  هو العريس هو جاب سيرة العريس هو جاب سيرته اقعد...  \n",
       "210080  على مهلك والله الله يعطيها هاهاها السابق ونحن ...  \n",
       "210081  معايا اقول منك المال ومنها العيال يلا الله يست...  \n",
       "210082                          اكشفي ياعروسة انت في بيتك  \n",
       "\n",
       "[210083 rows x 14 columns]"
      ]
     },
     "execution_count": 2,
     "metadata": {},
     "output_type": "execute_result"
    }
   ],
   "source": [
    "train_df = pd.read_csv(\"~/datasets/sada/train.csv\")\n",
    "train_df"
   ]
  },
  {
   "cell_type": "code",
   "execution_count": 3,
   "metadata": {},
   "outputs": [
    {
     "name": "stdout",
     "output_type": "stream",
     "text": [
      "<class 'pandas.core.frame.DataFrame'>\n",
      "Int64Index: 64800 entries, 2 to 210076\n",
      "Data columns (total 14 columns):\n",
      " #   Column           Non-Null Count  Dtype  \n",
      "---  ------           --------------  -----  \n",
      " 0   FileName         64800 non-null  object \n",
      " 1   ShowName         64800 non-null  object \n",
      " 2   FullFileLength   64800 non-null  float64\n",
      " 3   SegmentID        64800 non-null  object \n",
      " 4   SegmentLength    64800 non-null  float64\n",
      " 5   SegmentStart     64800 non-null  float64\n",
      " 6   SegmentEnd       64800 non-null  float64\n",
      " 7   SpeakerAge       64800 non-null  object \n",
      " 8   SpeakerGender    64800 non-null  object \n",
      " 9   SpeakerDialect   64800 non-null  object \n",
      " 10  Speaker          64800 non-null  object \n",
      " 11  Environment      64800 non-null  object \n",
      " 12  GroundTruthText  64799 non-null  object \n",
      " 13  ProcessedText    64734 non-null  object \n",
      "dtypes: float64(4), object(10)\n",
      "memory usage: 7.4+ MB\n"
     ]
    }
   ],
   "source": [
    "df = train_df[train_df.Environment == \"Clean -- نظيف\"]\n",
    "df.info()"
   ]
  },
  {
   "cell_type": "code",
   "execution_count": 4,
   "metadata": {},
   "outputs": [
    {
     "data": {
      "text/plain": [
       "count    64800.000000\n",
       "mean         6.064883\n",
       "std          7.237003\n",
       "min          0.500000\n",
       "25%          1.440000\n",
       "50%          3.150000\n",
       "75%          7.340000\n",
       "max         48.989996\n",
       "Name: SegmentLength, dtype: float64"
      ]
     },
     "execution_count": 4,
     "metadata": {},
     "output_type": "execute_result"
    }
   ],
   "source": [
    "df.SegmentLength.describe()"
   ]
  },
  {
   "cell_type": "code",
   "execution_count": 5,
   "metadata": {},
   "outputs": [
    {
     "data": {
      "text/plain": [
       "count    13217.000000\n",
       "mean         9.645988\n",
       "std          2.746866\n",
       "min          6.000000\n",
       "25%          7.266666\n",
       "50%          9.050000\n",
       "75%         11.680000\n",
       "max         16.000000\n",
       "Name: SegmentLength, dtype: float64"
      ]
     },
     "execution_count": 5,
     "metadata": {},
     "output_type": "execute_result"
    }
   ],
   "source": [
    "min_duration = df.SegmentLength >= 6\n",
    "max_duration = df.SegmentLength <= 16\n",
    "between_duration = df[min_duration & max_duration]\n",
    "between_duration.SegmentLength.describe()"
   ]
  },
  {
   "cell_type": "code",
   "execution_count": 6,
   "metadata": {},
   "outputs": [
    {
     "name": "stdout",
     "output_type": "stream",
     "text": [
      "Total hours: 109.17\n",
      "Between duration hours: 35.41\n",
      "Percentage: 32.44%\n"
     ]
    }
   ],
   "source": [
    "between_duration_hours = between_duration.SegmentLength.sum() / 3600\n",
    "total_hours = df.SegmentLength.sum() / 3600\n",
    "print(f\"Total hours: {total_hours:.2f}\")\n",
    "print(f\"Between duration hours: {between_duration_hours:.2f}\")\n",
    "print(f\"Percentage: {between_duration_hours / total_hours:.2%}\")"
   ]
  },
  {
   "cell_type": "code",
   "execution_count": 7,
   "metadata": {},
   "outputs": [
    {
     "data": {
      "text/plain": [
       "count    45130.000000\n",
       "mean         2.363179\n",
       "std          1.472485\n",
       "min          0.500000\n",
       "25%          1.110000\n",
       "50%          1.980000\n",
       "75%          3.370000\n",
       "max          5.999970\n",
       "Name: SegmentLength, dtype: float64"
      ]
     },
     "execution_count": 7,
     "metadata": {},
     "output_type": "execute_result"
    }
   ],
   "source": [
    "df[~min_duration].SegmentLength.describe()"
   ]
  },
  {
   "cell_type": "code",
   "execution_count": 8,
   "metadata": {},
   "outputs": [
    {
     "data": {
      "text/plain": [
       "count    23043.000000\n",
       "mean        13.228605\n",
       "std          8.058817\n",
       "min          5.000000\n",
       "25%          6.890000\n",
       "50%         10.152582\n",
       "75%         17.310000\n",
       "max         48.989996\n",
       "Name: SegmentLength, dtype: float64"
      ]
     },
     "execution_count": 8,
     "metadata": {},
     "output_type": "execute_result"
    }
   ],
   "source": [
    "df[df.SegmentLength >= 5].SegmentLength.describe()"
   ]
  },
  {
   "cell_type": "code",
   "execution_count": 9,
   "metadata": {},
   "outputs": [
    {
     "data": {
      "text/plain": [
       "29.62508001193363"
      ]
     },
     "execution_count": 9,
     "metadata": {},
     "output_type": "execute_result"
    }
   ],
   "source": [
    "df[~min_duration].SegmentLength.sum() / 3600"
   ]
  },
  {
   "cell_type": "code",
   "execution_count": 10,
   "metadata": {},
   "outputs": [
    {
     "data": {
      "text/plain": [
       "5.13128368693313"
      ]
     },
     "execution_count": 10,
     "metadata": {},
     "output_type": "execute_result"
    }
   ],
   "source": [
    "df[(df.SegmentLength >= 5) & (df.SegmentLength < 6)].SegmentLength.sum() / 3600"
   ]
  },
  {
   "cell_type": "code",
   "execution_count": 11,
   "metadata": {},
   "outputs": [
    {
     "data": {
      "text/plain": [
       "(3049, 64800)"
      ]
     },
     "execution_count": 11,
     "metadata": {},
     "output_type": "execute_result"
    }
   ],
   "source": [
    "groups = df.groupby(\"FileName\")\n",
    "groups.ngroups, len(df)"
   ]
  },
  {
   "cell_type": "code",
   "execution_count": 12,
   "metadata": {},
   "outputs": [],
   "source": [
    "min_duration = groups.SegmentLength.transform(\"min\") >= 6\n",
    "max_duration = groups.SegmentLength.transform(\"max\") <= 16\n",
    "# groups.SegmentLength / 3600"
   ]
  },
  {
   "cell_type": "code",
   "execution_count": 24,
   "metadata": {},
   "outputs": [
    {
     "name": "stdout",
     "output_type": "stream",
     "text": [
      "False\n",
      "0.011745869650600637\n",
      "count     4.000000\n",
      "mean     10.571283\n",
      "std       1.760997\n",
      "min       8.715132\n",
      "25%       9.266282\n",
      "50%      10.609999\n",
      "75%      11.915000\n",
      "max      12.350000\n",
      "Name: SegmentLength, dtype: float64\n"
     ]
    }
   ],
   "source": [
    "g = list(groups)\n",
    "file, group = g[0]\n",
    "for filename, group in g[1:]:\n",
    "    print(file == filename)\n",
    "    filt = (group.SegmentLength >= 6) & (group.SegmentLength <= 16)\n",
    "    group = group[filt]\n",
    "    print(group.SegmentLength.sum() / 3600)\n",
    "    print(group.SegmentLength.describe())\n",
    "    # below_duration = group.SegmentLength < 6\n",
    "    # print(group[below_duration].SegmentLength.sort_values(ascending=False))\n",
    "    # print()\n",
    "    break"
   ]
  },
  {
   "cell_type": "code",
   "execution_count": null,
   "metadata": {},
   "outputs": [],
   "source": []
  }
 ],
 "metadata": {
  "kernelspec": {
   "display_name": "venv",
   "language": "python",
   "name": "python3"
  },
  "language_info": {
   "codemirror_mode": {
    "name": "ipython",
    "version": 3
   },
   "file_extension": ".py",
   "mimetype": "text/x-python",
   "name": "python",
   "nbconvert_exporter": "python",
   "pygments_lexer": "ipython3",
   "version": "3.10.9"
  },
  "orig_nbformat": 4,
  "vscode": {
   "interpreter": {
    "hash": "9fd59d81bab6cbc0556a07062e034b577314d2cee74c0bb79193c27d0b3dbb55"
   }
  }
 },
 "nbformat": 4,
 "nbformat_minor": 2
}
